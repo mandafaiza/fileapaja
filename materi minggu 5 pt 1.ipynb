{
 "cells": [
  {
   "cell_type": "code",
   "execution_count": 3,
   "id": "6ad97679-3e57-4828-9cff-d0eaa5a0818a",
   "metadata": {},
   "outputs": [
    {
     "name": "stdout",
     "output_type": "stream",
     "text": [
      "perulangan ke-  0\n",
      "perulangan ke-  1\n",
      "perulangan ke-  2\n",
      "perulangan ke-  3\n",
      "perulangan ke-  4\n",
      "perulangan ke-  5\n",
      "perulangan ke-  6\n",
      "perulangan ke-  7\n"
     ]
    }
   ],
   "source": [
    "ulang=8\n",
    "for i in range(ulang):\n",
    " print(\"perulangan ke- \",i)"
   ]
  },
  {
   "cell_type": "code",
   "execution_count": 13,
   "id": "bea9dc01-f91a-44ce-9521-f92bc1ffa234",
   "metadata": {},
   "outputs": [
    {
     "name": "stdin",
     "output_type": "stream",
     "text": [
      "masukkan data 17\n",
      "masukkan data 13\n",
      "masukkan data 04\n",
      "masukkan data 10\n",
      "masukkan data 95\n"
     ]
    }
   ],
   "source": [
    "x=[ ]\n",
    "n=5\n",
    "for i in range(n):\n",
    "    x.append (int(input(\"masukkan data\")))"
   ]
  },
  {
   "cell_type": "code",
   "execution_count": 15,
   "id": "46aeb8ef-c4ac-4c51-bc1b-464552a40768",
   "metadata": {},
   "outputs": [
    {
     "name": "stdout",
     "output_type": "stream",
     "text": [
      "2\n",
      "3\n",
      "4\n"
     ]
    }
   ],
   "source": [
    "for i in range(3):\n",
    "    i+=2\n",
    "    print(i)"
   ]
  },
  {
   "cell_type": "code",
   "execution_count": 19,
   "id": "f0f21af6-29e2-47ff-aeae-c7ae6881e997",
   "metadata": {},
   "outputs": [
    {
     "name": "stdin",
     "output_type": "stream",
     "text": [
      "masukkan data 3\n"
     ]
    },
    {
     "name": "stdout",
     "output_type": "stream",
     "text": [
      "masukkan data [3]\n"
     ]
    },
    {
     "name": "stdin",
     "output_type": "stream",
     "text": [
      "masukkan data 4\n"
     ]
    },
    {
     "name": "stdout",
     "output_type": "stream",
     "text": [
      "masukkan data [3, 4]\n"
     ]
    },
    {
     "name": "stdin",
     "output_type": "stream",
     "text": [
      "masukkan data 5\n"
     ]
    },
    {
     "name": "stdout",
     "output_type": "stream",
     "text": [
      "masukkan data [3, 4, 5]\n"
     ]
    },
    {
     "name": "stdin",
     "output_type": "stream",
     "text": [
      "masukkan data 6\n"
     ]
    },
    {
     "name": "stdout",
     "output_type": "stream",
     "text": [
      "masukkan data [3, 4, 5, 6]\n"
     ]
    },
    {
     "name": "stdin",
     "output_type": "stream",
     "text": [
      "masukkan data 7\n"
     ]
    },
    {
     "name": "stdout",
     "output_type": "stream",
     "text": [
      "masukkan data [3, 4, 5, 6, 7]\n"
     ]
    }
   ],
   "source": [
    "n=5\n",
    "x=[ ]\n",
    "for i in range(n):\n",
    "    x.append(int(input(\"masukkan data\")))\n",
    "    print(\"masukkan data\", x)"
   ]
  },
  {
   "cell_type": "code",
   "execution_count": 21,
   "id": "477a571b-2f3c-4fea-ab6c-4fc50a378eb2",
   "metadata": {},
   "outputs": [
    {
     "name": "stdout",
     "output_type": "stream",
     "text": [
      "4\n",
      "5\n",
      "6\n",
      "7\n",
      "8\n"
     ]
    }
   ],
   "source": [
    "for i in range(5):\n",
    "    i=i+4\n",
    "    print(i)"
   ]
  },
  {
   "cell_type": "code",
   "execution_count": 25,
   "id": "2aa36cc0-a5a0-4391-9ef3-795622d83a16",
   "metadata": {},
   "outputs": [
    {
     "name": "stdout",
     "output_type": "stream",
     "text": [
      "1\n",
      "2\n",
      "3\n",
      "4\n",
      "perulangan berakhir\n",
      "done\n"
     ]
    }
   ],
   "source": [
    "for i in range(1,5):\n",
    "    print(i)\n",
    "else:\n",
    "    print(\"perulangan berakhir\")\n",
    "print(\"done\")"
   ]
  },
  {
   "cell_type": "code",
   "execution_count": 29,
   "id": "4acb215d-02df-4047-9d97-ff482c075190",
   "metadata": {},
   "outputs": [
    {
     "name": "stdout",
     "output_type": "stream",
     "text": [
      "1\n",
      "3\n",
      "5\n",
      "7\n",
      "9\n"
     ]
    }
   ],
   "source": [
    "for i in range(1,10,2):\n",
    "    print (i)"
   ]
  },
  {
   "cell_type": "code",
   "execution_count": 33,
   "id": "32bf31fb-fc54-46c1-acb3-a5f272d6d139",
   "metadata": {},
   "outputs": [
    {
     "name": "stdout",
     "output_type": "stream",
     "text": [
      "l\n",
      "o\n",
      "v\n",
      "i\n",
      "n\n",
      "g\n",
      " \n",
      "j\n",
      "e\n",
      "o\n",
      "n\n",
      "g\n",
      "h\n",
      "a\n",
      "n\n"
     ]
    }
   ],
   "source": [
    "for i in \"loving jeonghan\":\n",
    "    print (i)"
   ]
  },
  {
   "cell_type": "code",
   "execution_count": 35,
   "id": "2f4ed128-5458-4d66-a930-8147af38d1a7",
   "metadata": {},
   "outputs": [
    {
     "name": "stdout",
     "output_type": "stream",
     "text": [
      "1\n",
      "2\n",
      "4\n",
      "6\n",
      "7\n"
     ]
    }
   ],
   "source": [
    "data_list=[1,2,4,6,7]\n",
    "for i in data_list:\n",
    "    print(i)"
   ]
  },
  {
   "cell_type": "code",
   "execution_count": 39,
   "id": "3bf65f67-3c60-4f8a-a054-ad4b8f445ebd",
   "metadata": {},
   "outputs": [
    {
     "name": "stdout",
     "output_type": "stream",
     "text": [
      "[4, 10, 13, 17]\n",
      "[4, 10, 13, 17]\n",
      "[4, 10, 13, 17]\n",
      "[4, 10, 13, 17]\n"
     ]
    }
   ],
   "source": [
    "data_list=[4,10,13,17]\n",
    "for i in range(len(data_list)):\n",
    "    print(data_list)"
   ]
  },
  {
   "cell_type": "code",
   "execution_count": 41,
   "id": "18f3abf9-b1b4-4a95-9981-d4febfc68665",
   "metadata": {},
   "outputs": [
    {
     "name": "stdout",
     "output_type": "stream",
     "text": [
      "seungcheol\n",
      "jeonghan\n",
      "joshua\n",
      "jun\n",
      "hoshi\n",
      "wonwoo\n",
      "woozi\n",
      "mingyu\n",
      "dokyeom\n",
      "minghao\n",
      "seungkwan\n",
      "vernon\n",
      "dino\n"
     ]
    }
   ],
   "source": [
    "seventeen=[\"seungcheol\", \"jeonghan\", \"joshua\", \"jun\", \"hoshi\", \"wonwoo\", \"woozi\", \"mingyu\", \"dokyeom\", \"minghao\", \"seungkwan\", \"vernon\", \"dino\"]\n",
    "for i in seventeen:\n",
    "    print(i)"
   ]
  },
  {
   "cell_type": "markdown",
   "id": "45851b9e-d796-40bc-8cc0-e3c877f8cc36",
   "metadata": {},
   "source": [
    "Batlah program yang menampilkan bilangan genap dari 2 sampai 20 menampilkan menggunakan perulangan"
   ]
  },
  {
   "cell_type": "code",
   "execution_count": 50,
   "id": "cd2137b6-3594-41ca-a26a-823821455937",
   "metadata": {},
   "outputs": [
    {
     "name": "stdout",
     "output_type": "stream",
     "text": [
      "2\n",
      "4\n",
      "6\n",
      "8\n",
      "10\n",
      "12\n",
      "14\n",
      "16\n",
      "18\n"
     ]
    }
   ],
   "source": [
    "for i in range(2,20,2):\n",
    "    print(i)"
   ]
  },
  {
   "cell_type": "markdown",
   "id": "decb08d9-e834-46fb-9d0a-9834ef6c2f0d",
   "metadata": {},
   "source": [
    "Buatlah program yang menghitung dan menampilkan hasil penjumlahan dari angka 1 hingga 10 menggunakan perulangan"
   ]
  },
  {
   "cell_type": "code",
   "execution_count": 57,
   "id": "ab786a48-9a78-4da6-971c-436c3d40121d",
   "metadata": {},
   "outputs": [
    {
     "name": "stdout",
     "output_type": "stream",
     "text": [
      "hasil penjumlahan dari angka 1 hingga 10 adalah:  55\n"
     ]
    }
   ],
   "source": [
    "jumlah=0\n",
    "for i in range(1,11):\n",
    "    jumlah=jumlah+i\n",
    "print(\"hasil penjumlahan dari angka 1 hingga 10 adalah: \", jumlah)"
   ]
  },
  {
   "cell_type": "markdown",
   "id": "90652ba8-862f-4ce0-951b-474f4e70a1d2",
   "metadata": {},
   "source": [
    "## FOR DIDALAM LIST"
   ]
  },
  {
   "cell_type": "code",
   "execution_count": 64,
   "id": "ef25cf6e-2328-4333-950e-c234ccbec3b8",
   "metadata": {},
   "outputs": [
    {
     "name": "stdin",
     "output_type": "stream",
     "text": [
      "masukkan jumlah data:  3\n",
      "masukkan data:  2.3\n",
      "masukkan data:  5.8\n",
      "masukkan data:  1.2\n"
     ]
    },
    {
     "name": "stdout",
     "output_type": "stream",
     "text": [
      "data kamu adalah  [2.3, 5.8, 1.2]\n"
     ]
    }
   ],
   "source": [
    "n=int(input(\"masukkan jumlah data: \"))\n",
    "list_data=[float(input(\"masukkan data: \")) for _ in range (n)]\n",
    "print(\"data kamu adalah \",list_data)"
   ]
  },
  {
   "cell_type": "markdown",
   "id": "1b509e0e-b1b1-4dc6-b13b-c6a3f46b3f4d",
   "metadata": {},
   "source": [
    "list_data=[ ]\n",
    "for i in range(2):\n",
    "    list_data.append(float(input(\"masukkan data:\")))\n",
    "    print(\"data yang ku dapat adalah \", list_data)"
   ]
  },
  {
   "cell_type": "markdown",
   "id": "68177595-071a-4544-903a-ec82f775ac8d",
   "metadata": {},
   "source": [
    "## NESTED LOOP"
   ]
  },
  {
   "cell_type": "code",
   "execution_count": 71,
   "id": "d7214292-fb86-4d44-86b9-4ebbab56a9c4",
   "metadata": {},
   "outputs": [
    {
     "name": "stdout",
     "output_type": "stream",
     "text": [
      "1 * 1 = 1\n",
      "1 * 2 = 2\n",
      "1 * 3 = 3\n",
      "1 * 4 = 4\n",
      "1 * 5 = 5\n",
      "1 * 6 = 6\n",
      "1 * 7 = 7\n",
      "1 * 8 = 8\n",
      "1 * 9 = 9\n",
      "1 * 10 = 10\n",
      "\n",
      "2 * 1 = 2\n",
      "2 * 2 = 4\n",
      "2 * 3 = 6\n",
      "2 * 4 = 8\n",
      "2 * 5 = 10\n",
      "2 * 6 = 12\n",
      "2 * 7 = 14\n",
      "2 * 8 = 16\n",
      "2 * 9 = 18\n",
      "2 * 10 = 20\n",
      "\n",
      "terima kasih! \n"
     ]
    }
   ],
   "source": [
    "for i in range (1,3):\n",
    "    for j in range (1,11):\n",
    "        print(i,\"*\",j,\"=\",i*j)\n",
    "    print()\n",
    "print(\"terima kasih! \")"
   ]
  },
  {
   "cell_type": "code",
   "execution_count": 75,
   "id": "ac5d4566-3370-4a8e-b144-a1dae7382385",
   "metadata": {},
   "outputs": [
    {
     "name": "stdin",
     "output_type": "stream",
     "text": [
      "masukkan jumlah baris:  8\n"
     ]
    },
    {
     "name": "stdout",
     "output_type": "stream",
     "text": [
      "*  \n",
      "* *  \n",
      "* * *  \n",
      "* * * *  \n",
      "* * * * *  \n",
      "* * * * * *  \n",
      "* * * * * * *  \n",
      "* * * * * * * *  \n"
     ]
    }
   ],
   "source": [
    "n=int(input(\"masukkan jumlah baris: \"))\n",
    "for i in range(n):\n",
    "    for j in range(i+1):\n",
    "        print(\"*\",end=\" \")\n",
    "    print(' ')"
   ]
  },
  {
   "cell_type": "code",
   "execution_count": 81,
   "id": "10e1d6de-70f2-4f84-962f-83a2c493ed58",
   "metadata": {},
   "outputs": [
    {
     "name": "stdin",
     "output_type": "stream",
     "text": [
      "masukkan jumlah baris:  8\n"
     ]
    },
    {
     "name": "stdout",
     "output_type": "stream",
     "text": [
      "1  \n",
      "1 2  \n",
      "1 2 3  \n",
      "1 2 3 4  \n",
      "1 2 3 4 5  \n",
      "1 2 3 4 5 6  \n",
      "1 2 3 4 5 6 7  \n",
      "1 2 3 4 5 6 7 8  \n"
     ]
    }
   ],
   "source": [
    "n=int(input(\"masukkan jumlah baris: \"))\n",
    "for i in range(n):\n",
    "    for j in range (i+1):\n",
    "        print(j+1, end=\" \")\n",
    "    print(' ')"
   ]
  }
 ],
 "metadata": {
  "kernelspec": {
   "display_name": "Python 3 (ipykernel)",
   "language": "python",
   "name": "python3"
  },
  "language_info": {
   "codemirror_mode": {
    "name": "ipython",
    "version": 3
   },
   "file_extension": ".py",
   "mimetype": "text/x-python",
   "name": "python",
   "nbconvert_exporter": "python",
   "pygments_lexer": "ipython3",
   "version": "3.12.4"
  }
 },
 "nbformat": 4,
 "nbformat_minor": 5
}
