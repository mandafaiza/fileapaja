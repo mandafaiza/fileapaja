{
 "cells": [
  {
   "cell_type": "markdown",
   "id": "b94e8bbd-8fa0-41fa-9db6-294337cb25ed",
   "metadata": {},
   "source": [
    "Tugas 2 : Membuat Program dengan Bahasa Python\n",
    "\n",
    "Nama : Amanda Faiza Agustin\n",
    "\n",
    "NIM : 103102400060\n",
    "\n",
    "Kelas : DS-04-02"
   ]
  },
  {
   "cell_type": "code",
   "execution_count": 2,
   "id": "d9fe3892-0199-4545-9509-37dd6265d689",
   "metadata": {},
   "outputs": [
    {
     "name": "stdin",
     "output_type": "stream",
     "text": [
      "panjang alas segitiga:  25\n",
      "tinggi segitiga:  7\n"
     ]
    },
    {
     "name": "stdout",
     "output_type": "stream",
     "text": [
      "luas segitiga adalah:  87.5\n"
     ]
    }
   ],
   "source": [
    "alas=float(input(\"panjang alas segitiga: \"))\n",
    "tinggi=float(input(\"tinggi segitiga: \"))\n",
    "luas=0.5*alas*tinggi\n",
    "print(\"luas segitiga adalah: \", luas)"
   ]
  },
  {
   "cell_type": "code",
   "execution_count": 4,
   "id": "42a702fb-a8c0-4aa8-a4a5-09d5aa95d0cf",
   "metadata": {},
   "outputs": [
    {
     "name": "stdin",
     "output_type": "stream",
     "text": [
      "angka pertama:  8895\n",
      "angka kedua:  1010\n"
     ]
    },
    {
     "name": "stdout",
     "output_type": "stream",
     "text": [
      "hasil penjumlahan:  9905\n"
     ]
    }
   ],
   "source": [
    "a=int(input(\"angka pertama: \"))\n",
    "b=int(input(\"angka kedua: \"))\n",
    "\n",
    "c=a+b\n",
    "print(\"hasil penjumlahan: \", c)"
   ]
  },
  {
   "cell_type": "code",
   "execution_count": 6,
   "id": "2a8ac711-7021-4b98-98ca-cb8768070b76",
   "metadata": {},
   "outputs": [
    {
     "name": "stdin",
     "output_type": "stream",
     "text": [
      "suhu dalam celcius:  26\n"
     ]
    },
    {
     "name": "stdout",
     "output_type": "stream",
     "text": [
      "suhu dalam farenheit:  78.8\n"
     ]
    }
   ],
   "source": [
    "celcius=float(input(\"suhu dalam celcius: \"))\n",
    "farenheit=(celcius*9/5)+32\n",
    "\n",
    "print(\"suhu dalam farenheit: \", farenheit)"
   ]
  },
  {
   "cell_type": "code",
   "execution_count": 8,
   "id": "e349f22c-5b7f-44a1-8aa1-b1305d365dc7",
   "metadata": {},
   "outputs": [
    {
     "name": "stdin",
     "output_type": "stream",
     "text": [
      "masukkan nilai a:  67\n",
      "masukkan nilai b:  80\n",
      "masukkan nilai c:  71\n"
     ]
    },
    {
     "name": "stdout",
     "output_type": "stream",
     "text": [
      "rata-rata dari 3 bilangan bulat tersebut adalah x=72.66666666666667\n"
     ]
    }
   ],
   "source": [
    "a=int(input(\"masukkan nilai a: \"))\n",
    "b=int(input(\"masukkan nilai b: \"))\n",
    "c=int(input(\"masukkan nilai c: \"))\n",
    "\n",
    "x=(a+b+c)/3\n",
    "print(f\"rata-rata dari 3 bilangan bulat tersebut adalah x={x}\")"
   ]
  },
  {
   "cell_type": "code",
   "execution_count": 10,
   "id": "d61cc0f1-bdf4-485a-9946-75c8ee08e328",
   "metadata": {},
   "outputs": [
    {
     "name": "stdin",
     "output_type": "stream",
     "text": [
      "panjang sisi persegi:  17\n"
     ]
    },
    {
     "name": "stdout",
     "output_type": "stream",
     "text": [
      "luas persegi adalah:  289.0\n",
      "keliling persegi adalah:  68.0\n"
     ]
    }
   ],
   "source": [
    "sisi=float(input(\"panjang sisi persegi: \"))\n",
    "\n",
    "luas=sisi*sisi\n",
    "keliling=4*sisi\n",
    "\n",
    "print(\"luas persegi adalah: \", luas)\n",
    "print(\"keliling persegi adalah: \", keliling)"
   ]
  },
  {
   "cell_type": "code",
   "execution_count": null,
   "id": "cd0d2610-89ee-42eb-9e35-ffd12f03be54",
   "metadata": {},
   "outputs": [],
   "source": []
  }
 ],
 "metadata": {
  "kernelspec": {
   "display_name": "Python 3 (ipykernel)",
   "language": "python",
   "name": "python3"
  },
  "language_info": {
   "codemirror_mode": {
    "name": "ipython",
    "version": 3
   },
   "file_extension": ".py",
   "mimetype": "text/x-python",
   "name": "python",
   "nbconvert_exporter": "python",
   "pygments_lexer": "ipython3",
   "version": "3.12.4"
  }
 },
 "nbformat": 4,
 "nbformat_minor": 5
}
